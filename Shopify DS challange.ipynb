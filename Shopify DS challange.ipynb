{
 "cells": [
  {
   "cell_type": "markdown",
   "id": "developed-island",
   "metadata": {},
   "source": [
    "# Question 1 -- Sales data"
   ]
  },
  {
   "cell_type": "code",
   "execution_count": 14,
   "id": "following-newspaper",
   "metadata": {},
   "outputs": [],
   "source": [
    "import pandas as pd"
   ]
  },
  {
   "cell_type": "code",
   "execution_count": 15,
   "id": "compressed-kinase",
   "metadata": {},
   "outputs": [
    {
     "data": {
      "text/html": [
       "<div>\n",
       "<style scoped>\n",
       "    .dataframe tbody tr th:only-of-type {\n",
       "        vertical-align: middle;\n",
       "    }\n",
       "\n",
       "    .dataframe tbody tr th {\n",
       "        vertical-align: top;\n",
       "    }\n",
       "\n",
       "    .dataframe thead th {\n",
       "        text-align: right;\n",
       "    }\n",
       "</style>\n",
       "<table border=\"1\" class=\"dataframe\">\n",
       "  <thead>\n",
       "    <tr style=\"text-align: right;\">\n",
       "      <th></th>\n",
       "      <th>order_id</th>\n",
       "      <th>shop_id</th>\n",
       "      <th>user_id</th>\n",
       "      <th>order_amount</th>\n",
       "      <th>total_items</th>\n",
       "      <th>payment_method</th>\n",
       "      <th>created_at</th>\n",
       "    </tr>\n",
       "  </thead>\n",
       "  <tbody>\n",
       "    <tr>\n",
       "      <th>0</th>\n",
       "      <td>1</td>\n",
       "      <td>53</td>\n",
       "      <td>746</td>\n",
       "      <td>224</td>\n",
       "      <td>2</td>\n",
       "      <td>cash</td>\n",
       "      <td>2017-03-13 12:36:56</td>\n",
       "    </tr>\n",
       "    <tr>\n",
       "      <th>1</th>\n",
       "      <td>2</td>\n",
       "      <td>92</td>\n",
       "      <td>925</td>\n",
       "      <td>90</td>\n",
       "      <td>1</td>\n",
       "      <td>cash</td>\n",
       "      <td>2017-03-03 17:38:52</td>\n",
       "    </tr>\n",
       "    <tr>\n",
       "      <th>2</th>\n",
       "      <td>3</td>\n",
       "      <td>44</td>\n",
       "      <td>861</td>\n",
       "      <td>144</td>\n",
       "      <td>1</td>\n",
       "      <td>cash</td>\n",
       "      <td>2017-03-14 4:23:56</td>\n",
       "    </tr>\n",
       "    <tr>\n",
       "      <th>3</th>\n",
       "      <td>4</td>\n",
       "      <td>18</td>\n",
       "      <td>935</td>\n",
       "      <td>156</td>\n",
       "      <td>1</td>\n",
       "      <td>credit_card</td>\n",
       "      <td>2017-03-26 12:43:37</td>\n",
       "    </tr>\n",
       "    <tr>\n",
       "      <th>4</th>\n",
       "      <td>5</td>\n",
       "      <td>18</td>\n",
       "      <td>883</td>\n",
       "      <td>156</td>\n",
       "      <td>1</td>\n",
       "      <td>credit_card</td>\n",
       "      <td>2017-03-01 4:35:11</td>\n",
       "    </tr>\n",
       "  </tbody>\n",
       "</table>\n",
       "</div>"
      ],
      "text/plain": [
       "   order_id  shop_id  user_id  order_amount  total_items payment_method  \\\n",
       "0         1       53      746           224            2           cash   \n",
       "1         2       92      925            90            1           cash   \n",
       "2         3       44      861           144            1           cash   \n",
       "3         4       18      935           156            1    credit_card   \n",
       "4         5       18      883           156            1    credit_card   \n",
       "\n",
       "            created_at  \n",
       "0  2017-03-13 12:36:56  \n",
       "1  2017-03-03 17:38:52  \n",
       "2   2017-03-14 4:23:56  \n",
       "3  2017-03-26 12:43:37  \n",
       "4   2017-03-01 4:35:11  "
      ]
     },
     "execution_count": 15,
     "metadata": {},
     "output_type": "execute_result"
    }
   ],
   "source": [
    "file_name = '2019 Winter Data Science Intern Challenge Data Set - Sheet1.csv'\n",
    "sales = pd.read_csv(file_name)\n",
    "sales.head(5)"
   ]
  },
  {
   "cell_type": "code",
   "execution_count": 16,
   "id": "chief-baltimore",
   "metadata": {},
   "outputs": [
    {
     "data": {
      "text/plain": [
       "(5000, 7)"
      ]
     },
     "execution_count": 16,
     "metadata": {},
     "output_type": "execute_result"
    }
   ],
   "source": [
    "sales.shape"
   ]
  },
  {
   "cell_type": "markdown",
   "id": "handmade-sharing",
   "metadata": {},
   "source": [
    "## a. Think about what could be going wrong with our calculation. Think about a better way to evaluate this data. "
   ]
  },
  {
   "cell_type": "markdown",
   "id": "friendly-regulation",
   "metadata": {},
   "source": [
    "As we take a closer look we can clearly see that when we plot the distribution of order_amount in a boxplot there are a lot of outliers going as high as 700000, thus evaluating order_amount by *median* here seems to be the better choice."
   ]
  },
  {
   "cell_type": "code",
   "execution_count": 5,
   "id": "offshore-rendering",
   "metadata": {},
   "outputs": [
    {
     "data": {
      "text/plain": [
       "<AxesSubplot:>"
      ]
     },
     "execution_count": 5,
     "metadata": {},
     "output_type": "execute_result"
    },
    {
     "data": {
      "image/png": "[encoded data removed]",
      "text/plain": [
       "<Figure size 432x288 with 1 Axes>"
      ]
     },
     "metadata": {
      "needs_background": "light"
     },
     "output_type": "display_data"
    }
   ],
   "source": [
    "sales[['order_amount']].boxplot()"
   ]
  },
  {
   "cell_type": "code",
   "execution_count": 6,
   "id": "permanent-statement",
   "metadata": {},
   "outputs": [
    {
     "data": {
      "text/plain": [
       "'Using median as the measurement for AOV, we get 284.0, which is far more informative as per the purpose of AOV.'"
      ]
     },
     "execution_count": 6,
     "metadata": {},
     "output_type": "execute_result"
    }
   ],
   "source": [
    "f\"Using median as the measurement for AOV, we get {sales['order_amount'].median()}, which is far more informative as per the purpose of AOV.\""
   ]
  },
  {
   "cell_type": "markdown",
   "id": "union-microwave",
   "metadata": {},
   "source": [
    "At a even closer look, we discover that the outlier exhibits some interesting traits, that when plotting the outliers of the dataset, we're still getting a large spike at the 70000 mark with high frequency"
   ]
  },
  {
   "cell_type": "code",
   "execution_count": 7,
   "id": "viral-premium",
   "metadata": {},
   "outputs": [
    {
     "data": {
      "text/plain": [
       "<AxesSubplot:ylabel='Frequency'>"
      ]
     },
     "execution_count": 7,
     "metadata": {},
     "output_type": "execute_result"
    },
    {
     "data": {
      "image/png": "[encoded data removed]",
      "text/plain": [
       "<Figure size 432x288 with 1 Axes>"
      ]
     },
     "metadata": {
      "needs_background": "light"
     },
     "output_type": "display_data"
    }
   ],
   "source": [
    "cutoff_order_amount = sales['order_amount'].quantile(.75) + 1.5*(sales['order_amount'].quantile(.75) - sales['order_amount'].quantile(.25))\n",
    "sales_outlier = sales[sales['order_amount'] > cutoff_order_amount]\n",
    "sales_outlier['order_amount'].plot.hist(logy = True, bins = 30)"
   ]
  },
  {
   "cell_type": "markdown",
   "id": "liable-moses",
   "metadata": {},
   "source": [
    "To further investigate, I've filtered out all the entries that has order amount over 600000; and by doing so some interesting patterns is revealed"
   ]
  },
  {
   "cell_type": "code",
   "execution_count": 8,
   "id": "wired-thought",
   "metadata": {},
   "outputs": [
    {
     "data": {
      "text/html": [
       "<div>\n",
       "<style scoped>\n",
       "    .dataframe tbody tr th:only-of-type {\n",
       "        vertical-align: middle;\n",
       "    }\n",
       "\n",
       "    .dataframe tbody tr th {\n",
       "        vertical-align: top;\n",
       "    }\n",
       "\n",
       "    .dataframe thead th {\n",
       "        text-align: right;\n",
       "    }\n",
       "</style>\n",
       "<table border=\"1\" class=\"dataframe\">\n",
       "  <thead>\n",
       "    <tr style=\"text-align: right;\">\n",
       "      <th></th>\n",
       "      <th>order_id</th>\n",
       "      <th>shop_id</th>\n",
       "      <th>user_id</th>\n",
       "      <th>order_amount</th>\n",
       "      <th>total_items</th>\n",
       "      <th>payment_method</th>\n",
       "      <th>created_at</th>\n",
       "    </tr>\n",
       "  </thead>\n",
       "  <tbody>\n",
       "    <tr>\n",
       "      <th>15</th>\n",
       "      <td>16</td>\n",
       "      <td>42</td>\n",
       "      <td>607</td>\n",
       "      <td>704000</td>\n",
       "      <td>2000</td>\n",
       "      <td>credit_card</td>\n",
       "      <td>2017-03-07 4:00:00</td>\n",
       "    </tr>\n",
       "    <tr>\n",
       "      <th>60</th>\n",
       "      <td>61</td>\n",
       "      <td>42</td>\n",
       "      <td>607</td>\n",
       "      <td>704000</td>\n",
       "      <td>2000</td>\n",
       "      <td>credit_card</td>\n",
       "      <td>2017-03-04 4:00:00</td>\n",
       "    </tr>\n",
       "    <tr>\n",
       "      <th>520</th>\n",
       "      <td>521</td>\n",
       "      <td>42</td>\n",
       "      <td>607</td>\n",
       "      <td>704000</td>\n",
       "      <td>2000</td>\n",
       "      <td>credit_card</td>\n",
       "      <td>2017-03-02 4:00:00</td>\n",
       "    </tr>\n",
       "    <tr>\n",
       "      <th>1104</th>\n",
       "      <td>1105</td>\n",
       "      <td>42</td>\n",
       "      <td>607</td>\n",
       "      <td>704000</td>\n",
       "      <td>2000</td>\n",
       "      <td>credit_card</td>\n",
       "      <td>2017-03-24 4:00:00</td>\n",
       "    </tr>\n",
       "    <tr>\n",
       "      <th>1362</th>\n",
       "      <td>1363</td>\n",
       "      <td>42</td>\n",
       "      <td>607</td>\n",
       "      <td>704000</td>\n",
       "      <td>2000</td>\n",
       "      <td>credit_card</td>\n",
       "      <td>2017-03-15 4:00:00</td>\n",
       "    </tr>\n",
       "    <tr>\n",
       "      <th>1436</th>\n",
       "      <td>1437</td>\n",
       "      <td>42</td>\n",
       "      <td>607</td>\n",
       "      <td>704000</td>\n",
       "      <td>2000</td>\n",
       "      <td>credit_card</td>\n",
       "      <td>2017-03-11 4:00:00</td>\n",
       "    </tr>\n",
       "    <tr>\n",
       "      <th>1562</th>\n",
       "      <td>1563</td>\n",
       "      <td>42</td>\n",
       "      <td>607</td>\n",
       "      <td>704000</td>\n",
       "      <td>2000</td>\n",
       "      <td>credit_card</td>\n",
       "      <td>2017-03-19 4:00:00</td>\n",
       "    </tr>\n",
       "    <tr>\n",
       "      <th>1602</th>\n",
       "      <td>1603</td>\n",
       "      <td>42</td>\n",
       "      <td>607</td>\n",
       "      <td>704000</td>\n",
       "      <td>2000</td>\n",
       "      <td>credit_card</td>\n",
       "      <td>2017-03-17 4:00:00</td>\n",
       "    </tr>\n",
       "    <tr>\n",
       "      <th>2153</th>\n",
       "      <td>2154</td>\n",
       "      <td>42</td>\n",
       "      <td>607</td>\n",
       "      <td>704000</td>\n",
       "      <td>2000</td>\n",
       "      <td>credit_card</td>\n",
       "      <td>2017-03-12 4:00:00</td>\n",
       "    </tr>\n",
       "    <tr>\n",
       "      <th>2297</th>\n",
       "      <td>2298</td>\n",
       "      <td>42</td>\n",
       "      <td>607</td>\n",
       "      <td>704000</td>\n",
       "      <td>2000</td>\n",
       "      <td>credit_card</td>\n",
       "      <td>2017-03-07 4:00:00</td>\n",
       "    </tr>\n",
       "    <tr>\n",
       "      <th>2835</th>\n",
       "      <td>2836</td>\n",
       "      <td>42</td>\n",
       "      <td>607</td>\n",
       "      <td>704000</td>\n",
       "      <td>2000</td>\n",
       "      <td>credit_card</td>\n",
       "      <td>2017-03-28 4:00:00</td>\n",
       "    </tr>\n",
       "    <tr>\n",
       "      <th>2969</th>\n",
       "      <td>2970</td>\n",
       "      <td>42</td>\n",
       "      <td>607</td>\n",
       "      <td>704000</td>\n",
       "      <td>2000</td>\n",
       "      <td>credit_card</td>\n",
       "      <td>2017-03-28 4:00:00</td>\n",
       "    </tr>\n",
       "    <tr>\n",
       "      <th>3332</th>\n",
       "      <td>3333</td>\n",
       "      <td>42</td>\n",
       "      <td>607</td>\n",
       "      <td>704000</td>\n",
       "      <td>2000</td>\n",
       "      <td>credit_card</td>\n",
       "      <td>2017-03-24 4:00:00</td>\n",
       "    </tr>\n",
       "    <tr>\n",
       "      <th>4056</th>\n",
       "      <td>4057</td>\n",
       "      <td>42</td>\n",
       "      <td>607</td>\n",
       "      <td>704000</td>\n",
       "      <td>2000</td>\n",
       "      <td>credit_card</td>\n",
       "      <td>2017-03-28 4:00:00</td>\n",
       "    </tr>\n",
       "    <tr>\n",
       "      <th>4646</th>\n",
       "      <td>4647</td>\n",
       "      <td>42</td>\n",
       "      <td>607</td>\n",
       "      <td>704000</td>\n",
       "      <td>2000</td>\n",
       "      <td>credit_card</td>\n",
       "      <td>2017-03-02 4:00:00</td>\n",
       "    </tr>\n",
       "    <tr>\n",
       "      <th>4868</th>\n",
       "      <td>4869</td>\n",
       "      <td>42</td>\n",
       "      <td>607</td>\n",
       "      <td>704000</td>\n",
       "      <td>2000</td>\n",
       "      <td>credit_card</td>\n",
       "      <td>2017-03-22 4:00:00</td>\n",
       "    </tr>\n",
       "    <tr>\n",
       "      <th>4882</th>\n",
       "      <td>4883</td>\n",
       "      <td>42</td>\n",
       "      <td>607</td>\n",
       "      <td>704000</td>\n",
       "      <td>2000</td>\n",
       "      <td>credit_card</td>\n",
       "      <td>2017-03-25 4:00:00</td>\n",
       "    </tr>\n",
       "  </tbody>\n",
       "</table>\n",
       "</div>"
      ],
      "text/plain": [
       "      order_id  shop_id  user_id  order_amount  total_items payment_method  \\\n",
       "15          16       42      607        704000         2000    credit_card   \n",
       "60          61       42      607        704000         2000    credit_card   \n",
       "520        521       42      607        704000         2000    credit_card   \n",
       "1104      1105       42      607        704000         2000    credit_card   \n",
       "1362      1363       42      607        704000         2000    credit_card   \n",
       "1436      1437       42      607        704000         2000    credit_card   \n",
       "1562      1563       42      607        704000         2000    credit_card   \n",
       "1602      1603       42      607        704000         2000    credit_card   \n",
       "2153      2154       42      607        704000         2000    credit_card   \n",
       "2297      2298       42      607        704000         2000    credit_card   \n",
       "2835      2836       42      607        704000         2000    credit_card   \n",
       "2969      2970       42      607        704000         2000    credit_card   \n",
       "3332      3333       42      607        704000         2000    credit_card   \n",
       "4056      4057       42      607        704000         2000    credit_card   \n",
       "4646      4647       42      607        704000         2000    credit_card   \n",
       "4868      4869       42      607        704000         2000    credit_card   \n",
       "4882      4883       42      607        704000         2000    credit_card   \n",
       "\n",
       "              created_at  \n",
       "15    2017-03-07 4:00:00  \n",
       "60    2017-03-04 4:00:00  \n",
       "520   2017-03-02 4:00:00  \n",
       "1104  2017-03-24 4:00:00  \n",
       "1362  2017-03-15 4:00:00  \n",
       "1436  2017-03-11 4:00:00  \n",
       "1562  2017-03-19 4:00:00  \n",
       "1602  2017-03-17 4:00:00  \n",
       "2153  2017-03-12 4:00:00  \n",
       "2297  2017-03-07 4:00:00  \n",
       "2835  2017-03-28 4:00:00  \n",
       "2969  2017-03-28 4:00:00  \n",
       "3332  2017-03-24 4:00:00  \n",
       "4056  2017-03-28 4:00:00  \n",
       "4646  2017-03-02 4:00:00  \n",
       "4868  2017-03-22 4:00:00  \n",
       "4882  2017-03-25 4:00:00  "
      ]
     },
     "execution_count": 8,
     "metadata": {},
     "output_type": "execute_result"
    }
   ],
   "source": [
    "sales_700000 = sales[sales['order_amount'] > 600000]\n",
    "sales_700000"
   ]
  },
  {
   "cell_type": "markdown",
   "id": "controlling-noise",
   "metadata": {},
   "source": [
    "At a closer look, these orders all made between the same user(user_id == 607) and the same buyer(shop_id == 42). The payments are all made with credit cards and the time are all at 4 am exactly, meaning these purchases are made automatedly. At some days, the same order was made 2 or 3 times. "
   ]
  },
  {
   "cell_type": "code",
   "execution_count": 9,
   "id": "composed-hardwood",
   "metadata": {},
   "outputs": [
    {
     "data": {
      "text/plain": [
       "<AxesSubplot:ylabel='Frequency'>"
      ]
     },
     "execution_count": 9,
     "metadata": {},
     "output_type": "execute_result"
    },
    {
     "data": {
      "image/png": "[encoded data removed]",
      "text/plain": [
       "<Figure size 432x288 with 1 Axes>"
      ]
     },
     "metadata": {
      "needs_background": "light"
     },
     "output_type": "display_data"
    }
   ],
   "source": [
    "pd.to_datetime(sales_700000['created_at'], format = '%Y-%m-%d %H:%M:%S').dt.day.plot.hist(bins = 31)"
   ]
  },
  {
   "cell_type": "markdown",
   "id": "developed-swimming",
   "metadata": {},
   "source": [
    "Honestly, this rises suspicion regarding Money Laundering, but it could also just be a wholesaler ordering from a distributor and the fact that none of the orders are made on Sundays supports that assumption. We can also see that due to the absence of Sunday orders, significantly more orders are placed on Mondays. "
   ]
  },
  {
   "cell_type": "code",
   "execution_count": 10,
   "id": "preceding-analyst",
   "metadata": {},
   "outputs": [
    {
     "data": {
      "text/plain": [
       "<AxesSubplot:ylabel='Frequency'>"
      ]
     },
     "execution_count": 10,
     "metadata": {},
     "output_type": "execute_result"
    },
    {
     "data": {
      "image/png": "[encoded data removed]",
      "text/plain": [
       "<Figure size 432x288 with 1 Axes>"
      ]
     },
     "metadata": {
      "needs_background": "light"
     },
     "output_type": "display_data"
    }
   ],
   "source": [
    "pd.to_datetime(sales_700000['created_at'], format = '%Y-%m-%d %H:%M:%S').dt.dayofweek.plot.hist(bins = 31)"
   ]
  },
  {
   "cell_type": "markdown",
   "id": "light-compound",
   "metadata": {},
   "source": [
    "## b. What metric would you report for this dataset and what are their values?"
   ]
  },
  {
   "cell_type": "markdown",
   "id": "behavioral-standing",
   "metadata": {},
   "source": [
    "Going forward, I will not be including the transaction between shop 42 and user 607 since they are not representative at all to the rest of the dataset. "
   ]
  },
  {
   "cell_type": "code",
   "execution_count": 11,
   "id": "floating-bradley",
   "metadata": {},
   "outputs": [],
   "source": [
    "sales = sales[(sales['user_id'] != 607) | (sales['shop_id'] != 42)]"
   ]
  },
  {
   "cell_type": "code",
   "execution_count": 12,
   "id": "robust-measurement",
   "metadata": {},
   "outputs": [
    {
     "data": {
      "text/plain": [
       "(4983, 7)"
      ]
     },
     "execution_count": 12,
     "metadata": {},
     "output_type": "execute_result"
    }
   ],
   "source": [
    "sales.shape"
   ]
  },
  {
   "cell_type": "markdown",
   "id": "clinical-fundamentals",
   "metadata": {},
   "source": [
    "### 1. What are the top selling stores by total amount and how are the sales or stores distributed?"
   ]
  },
  {
   "cell_type": "code",
   "execution_count": 13,
   "id": "complicated-delaware",
   "metadata": {},
   "outputs": [
    {
     "data": {
      "text/html": [
       "<div>\n",
       "<style scoped>\n",
       "    .dataframe tbody tr th:only-of-type {\n",
       "        vertical-align: middle;\n",
       "    }\n",
       "\n",
       "    .dataframe tbody tr th {\n",
       "        vertical-align: top;\n",
       "    }\n",
       "\n",
       "    .dataframe thead th {\n",
       "        text-align: right;\n",
       "    }\n",
       "</style>\n",
       "<table border=\"1\" class=\"dataframe\">\n",
       "  <thead>\n",
       "    <tr style=\"text-align: right;\">\n",
       "      <th></th>\n",
       "      <th>order_amount</th>\n",
       "      <th>total_items</th>\n",
       "    </tr>\n",
       "    <tr>\n",
       "      <th>shop_id</th>\n",
       "      <th></th>\n",
       "      <th></th>\n",
       "    </tr>\n",
       "  </thead>\n",
       "  <tbody>\n",
       "    <tr>\n",
       "      <th>78</th>\n",
       "      <td>2263800</td>\n",
       "      <td>88</td>\n",
       "    </tr>\n",
       "    <tr>\n",
       "      <th>89</th>\n",
       "      <td>23128</td>\n",
       "      <td>118</td>\n",
       "    </tr>\n",
       "    <tr>\n",
       "      <th>81</th>\n",
       "      <td>22656</td>\n",
       "      <td>128</td>\n",
       "    </tr>\n",
       "    <tr>\n",
       "      <th>6</th>\n",
       "      <td>22627</td>\n",
       "      <td>121</td>\n",
       "    </tr>\n",
       "    <tr>\n",
       "      <th>42</th>\n",
       "      <td>22176</td>\n",
       "      <td>63</td>\n",
       "    </tr>\n",
       "  </tbody>\n",
       "</table>\n",
       "</div>"
      ],
      "text/plain": [
       "         order_amount  total_items\n",
       "shop_id                           \n",
       "78            2263800           88\n",
       "89              23128          118\n",
       "81              22656          128\n",
       "6               22627          121\n",
       "42              22176           63"
      ]
     },
     "execution_count": 13,
     "metadata": {},
     "output_type": "execute_result"
    }
   ],
   "source": [
    "sales.groupby('shop_id').sum().sort_values('order_amount', ascending = False)[['order_amount', 'total_items']].head()"
   ]
  },
  {
   "cell_type": "markdown",
   "id": "narrow-oxide",
   "metadata": {},
   "source": [
    "As shown above, the shop with the most sale by far is shop 78, which by the looks of things is a high-end designer shop since the unit price of their snickers extremely high. With shop 78 removed, we can now take a closer look at the rest of the stores."
   ]
  },
  {
   "cell_type": "code",
   "execution_count": 14,
   "id": "aboriginal-colon",
   "metadata": {},
   "outputs": [
    {
     "data": {
      "text/plain": [
       "<AxesSubplot:ylabel='Frequency'>"
      ]
     },
     "execution_count": 14,
     "metadata": {},
     "output_type": "execute_result"
    },
    {
     "data": {
      "image/png": "[encoded data removed]",
      "text/plain": [
       "<Figure size 432x288 with 1 Axes>"
      ]
     },
     "metadata": {
      "needs_background": "light"
     },
     "output_type": "display_data"
    }
   ],
   "source": [
    "sales[sales['shop_id'] != 78].groupby('shop_id').sum()['order_amount'].plot.hist()"
   ]
  },
  {
   "cell_type": "markdown",
   "id": "based-profile",
   "metadata": {},
   "source": [
    "As shown above, the sales for the majority of stores(stores excluding 78 and 42) are approximately normally distributed with the mean being around 15000 in the month of March. "
   ]
  },
  {
   "cell_type": "markdown",
   "id": "sensitive-grace",
   "metadata": {},
   "source": [
    "### 2. How is the price of the snickers distributed and what kind of snickers earns us the most money (The question is a bit ambiguous, from what I'm interpreting each store sells a unique type of snickers)"
   ]
  },
  {
   "cell_type": "code",
   "execution_count": 15,
   "id": "false-joint",
   "metadata": {},
   "outputs": [],
   "source": [
    "# first create a new column to record snicker price per unit\n",
    "sales['price_per_unit'] = sales['order_amount']/sales['total_items']"
   ]
  },
  {
   "cell_type": "markdown",
   "id": "correct-tomato",
   "metadata": {},
   "source": [
    "We have some outliers that are very high in price, so in order to further understand the distribution of snicker price it's a good idea to divide them into categories."
   ]
  },
  {
   "cell_type": "code",
   "execution_count": 16,
   "id": "loving-slovakia",
   "metadata": {},
   "outputs": [
    {
     "data": {
      "text/plain": [
       "<AxesSubplot:>"
      ]
     },
     "execution_count": 16,
     "metadata": {},
     "output_type": "execute_result"
    },
    {
     "data": {
      "image/png": "[encoded data removed]",
      "text/plain": [
       "<Figure size 432x288 with 1 Axes>"
      ]
     },
     "metadata": {
      "needs_background": "light"
     },
     "output_type": "display_data"
    }
   ],
   "source": [
    "sales[['price_per_unit']].boxplot()"
   ]
  },
  {
   "cell_type": "markdown",
   "id": "concrete-pattern",
   "metadata": {},
   "source": [
    "Define:\n",
    " - Affordable snickers as snickers with prices lower than 25 percentile\n",
    " - Regular snickers as those within IQR\n",
    " - Expensive snickers as those higher than 74 percentile but lower than (75 percentile + 1.5*IQR)\n",
    " - Luxurious snickers as those that are priced over (75 percentile + 1.5*IQR)"
   ]
  },
  {
   "cell_type": "code",
   "execution_count": 17,
   "id": "shaped-freedom",
   "metadata": {},
   "outputs": [],
   "source": [
    "Q25 = sales['price_per_unit'].quantile(.25)\n",
    "Q75 = sales['price_per_unit'].quantile(.75)\n",
    "IQR = sales['price_per_unit'].quantile(.75) - sales['price_per_unit'].quantile(.25)\n",
    "type_product = lambda x: 'Affordable' if x < Q25 else ('Regular' if x < Q75 else ('Expensive' if x < Q75 + 1.5*IQR else 'Luxurious'))\n",
    "sales['type_product'] = sales['price_per_unit'].apply(type_product)\n"
   ]
  },
  {
   "cell_type": "code",
   "execution_count": 18,
   "id": "lightweight-seven",
   "metadata": {},
   "outputs": [
    {
     "data": {
      "text/plain": [
       "<AxesSubplot:ylabel='order_amount'>"
      ]
     },
     "execution_count": 18,
     "metadata": {},
     "output_type": "execute_result"
    },
    {
     "data": {
      "image/png": "[encoded data removed]",
      "text/plain": [
       "<Figure size 432x288 with 1 Axes>"
      ]
     },
     "metadata": {},
     "output_type": "display_data"
    }
   ],
   "source": [
    "sales.groupby('type_product').sum()['order_amount'].plot.pie()"
   ]
  },
  {
   "cell_type": "markdown",
   "id": "interesting-pitch",
   "metadata": {},
   "source": [
    "Since Shopify earns money by commission, in this particular dataset we can conclude that the majority of the revenue we earn is from Luxurious snicker sales. However, this figure is very much influenced by the sales by shop 78, which as we've established is probably some kind of designer brand. So let's take a look at how the data is without it."
   ]
  },
  {
   "cell_type": "code",
   "execution_count": 19,
   "id": "offensive-subscription",
   "metadata": {},
   "outputs": [
    {
     "data": {
      "text/plain": [
       "<AxesSubplot:ylabel='order_amount'>"
      ]
     },
     "execution_count": 19,
     "metadata": {},
     "output_type": "execute_result"
    },
    {
     "data": {
      "image/png": "[encoded data removed]",
      "text/plain": [
       "<Figure size 432x288 with 1 Axes>"
      ]
     },
     "metadata": {},
     "output_type": "display_data"
    }
   ],
   "source": [
    "sales[sales['shop_id'] != 78].groupby('type_product').sum()['order_amount'].plot.pie()"
   ]
  },
  {
   "cell_type": "markdown",
   "id": "enormous-tourism",
   "metadata": {},
   "source": [
    "Without the influence of shop 78, we can tell that more than half of out income is coming from regular snickers with only a very small portion coming from Luxurious snickers"
   ]
  },
  {
   "cell_type": "markdown",
   "id": "guilty-glucose",
   "metadata": {},
   "source": [
    "We can plot out the proportion of sales by payment method using the same method. As shown down below, more than 70% of sales are done using cards. This could protentially be very useful when deciding the specifics in our monetary rate, for instance, what percentage to charge a credit card sale for."
   ]
  },
  {
   "cell_type": "code",
   "execution_count": 20,
   "id": "annoying-survival",
   "metadata": {},
   "outputs": [
    {
     "data": {
      "text/plain": [
       "<AxesSubplot:ylabel='order_amount'>"
      ]
     },
     "execution_count": 20,
     "metadata": {},
     "output_type": "execute_result"
    },
    {
     "data": {
      "image/png": "[encoded data removed]",
      "text/plain": [
       "<Figure size 432x288 with 1 Axes>"
      ]
     },
     "metadata": {},
     "output_type": "display_data"
    }
   ],
   "source": [
    "sales.groupby('payment_method').sum()['order_amount'].plot.pie()"
   ]
  },
  {
   "cell_type": "markdown",
   "id": "assigned-harrison",
   "metadata": {},
   "source": [
    "## 3. Product Suggestion by Network Analysis"
   ]
  },
  {
   "cell_type": "markdown",
   "id": "binding-hanging",
   "metadata": {},
   "source": [
    "Maybe some day down the line we would like to give shoppers recommendations on where else to shop! Or if we were to treat each shop as an individual product and treat the entire dataset as the data within a single shop, we could make recommendations during checkout based on the product the shopper has in their cart! By using network analysis we can get a better understanding of how each shop/item is related to another."
   ]
  },
  {
   "cell_type": "code",
   "execution_count": 17,
   "id": "infrared-temple",
   "metadata": {},
   "outputs": [],
   "source": [
    "import networkx as nx\n",
    "\n",
    "# first we have to construct relationships between shops and shoppers\n",
    "G = nx.Graph()\n",
    "\n",
    "shops = set()\n",
    "\n",
    "count = 0\n",
    "\n",
    "for _, row in sales.iterrows():\n",
    "    \n",
    "    shop, user = row[\"shop_id\"], row[\"user_id\"]\n",
    "    \n",
    "    shops.add(shop)\n",
    "    \n",
    "    G.add_edge(user, shop)\n",
    "    \n",
    "    count += 1"
   ]
  },
  {
   "cell_type": "markdown",
   "id": "monetary-spider",
   "metadata": {},
   "source": [
    "Then by using a bipartite graph we can project the relationships onto a network, where the edge of each shop is weighted  to represent how many shoppers they have in common. The higher the weight, the more likely someone who shops at one of them were to shop at the other."
   ]
  },
  {
   "cell_type": "code",
   "execution_count": 18,
   "id": "spiritual-buying",
   "metadata": {},
   "outputs": [
    {
     "name": "stdout",
     "output_type": "stream",
     "text": [
      "Graph with 100 nodes and 4942 edges\n"
     ]
    }
   ],
   "source": [
    "from networkx.algorithms import bipartite\n",
    "\n",
    "G_folded = bipartite.weighted_projected_graph(G, shops)\n",
    "\n",
    "print(nx.info(G_folded))"
   ]
  },
  {
   "cell_type": "markdown",
   "id": "heard-chance",
   "metadata": {},
   "source": [
    "If we graph using 4942 edges, the result would be way too clustered to read"
   ]
  },
  {
   "cell_type": "code",
   "execution_count": 55,
   "id": "approved-education",
   "metadata": {},
   "outputs": [
    {
     "data": {
      "image/png": "[encoded data removed]",
      "text/plain": [
       "<Figure size 432x288 with 1 Axes>"
      ]
     },
     "metadata": {},
     "output_type": "display_data"
    }
   ],
   "source": [
    "components = sorted(nx.connected_components(G_folded), key=len, reverse=True)\n",
    "largest_component = components[0]\n",
    "\n",
    "nx.draw_spring(G_folded.subgraph(largest_component), with_labels = True)"
   ]
  },
  {
   "cell_type": "markdown",
   "id": "owned-jamaica",
   "metadata": {},
   "source": [
    "Thus, we need to remove less important edges until the graph clears up, for this particular application, that means setting the weight threshold to 15"
   ]
  },
  {
   "cell_type": "code",
   "execution_count": 19,
   "id": "desirable-wilson",
   "metadata": {},
   "outputs": [
    {
     "name": "stdout",
     "output_type": "stream",
     "text": [
      "Graph with 100 nodes and 27 edges\n"
     ]
    }
   ],
   "source": [
    "G_filtered = G_folded.copy()\n",
    "\n",
    "G_filtered.remove_edges_from([(n1, n2) for n1, n2, w in G_filtered.edges(data=\"weight\") if w < 15])\n",
    "\n",
    "print(nx.info(G_filtered))"
   ]
  },
  {
   "cell_type": "markdown",
   "id": "macro-editing",
   "metadata": {},
   "source": [
    "Now with only 27 edges, the graph becomes a lot more readable. As we can see, shop 71 seems to be related to a lot of other shops, meaning it's probably for everyone. Thus if we were to have a Shopify main page with the intention of drawing in customers, putting shop 71 on it would probably be a great choice; since it would be a great gateway to a lot of other shops, and therefore keep the user within the shopify ecosystem."
   ]
  },
  {
   "cell_type": "code",
   "execution_count": 32,
   "id": "sensitive-chair",
   "metadata": {},
   "outputs": [
    {
     "data": {
      "image/png": "[encoded data removed]",
      "text/plain": [
       "<Figure size 432x288 with 1 Axes>"
      ]
     },
     "metadata": {},
     "output_type": "display_data"
    }
   ],
   "source": [
    "components = sorted(nx.connected_components(G_filtered), key=len, reverse=True)\n",
    "largest_component = components[0]\n",
    "\n",
    "nx.draw_spring(G_filtered.subgraph(largest_component), with_labels = True)"
   ]
  },
  {
   "cell_type": "markdown",
   "id": "peaceful-export",
   "metadata": {},
   "source": [
    "With the weights visualized, we now can get a better understanding of how related these shops are. As seen in the graph, shop 71 and 91, as well as 53 and 9 are closest related to each other."
   ]
  },
  {
   "cell_type": "code",
   "execution_count": 54,
   "id": "buried-glass",
   "metadata": {},
   "outputs": [
    {
     "data": {
      "image/png": "[encoded data removed]",
      "text/plain": [
       "<Figure size 432x288 with 1 Axes>"
      ]
     },
     "metadata": {},
     "output_type": "display_data"
    }
   ],
   "source": [
    "import matplotlib.pyplot as plt\n",
    "\n",
    "edges,weights = zip(*nx.get_edge_attributes(G_filtered.subgraph(largest_component),'weight').items())\n",
    "pos = nx.spring_layout(G_folded)\n",
    "nx.draw(G_filtered.subgraph(largest_component), pos, node_color='b', edgelist=edges, edge_color=weights, width=10.0, edge_cmap=plt.cm.Blues, with_labels = True)\n",
    "plt.savefig('edges.png')"
   ]
  },
  {
   "cell_type": "markdown",
   "id": "worse-luxury",
   "metadata": {},
   "source": [
    "I've also wrote a function that would pick out the top n related shops given the shop_id of a specific shop. "
   ]
  },
  {
   "cell_type": "code",
   "execution_count": 26,
   "id": "removable-pizza",
   "metadata": {},
   "outputs": [],
   "source": [
    "import random\n",
    "G_mod = G_folded.copy()\n",
    "G_mod.remove_edges_from([(n1, n2) for n1, n2, w in G_mod.edges(data=\"weight\") if w < 1])\n",
    "\n",
    "def find_similar_shop(shops, top = 10):\n",
    "    shops_with_connection = [x for x in G_mod.edges(data = 'weight') if x[0] == shops or x[1] == shops]\n",
    "    try:\n",
    "        # this can fail if the shop has less than #top other shops that connects to it\n",
    "        top_weight = sorted([x[2] for x in shops_with_connection])[-top]\n",
    "    except:\n",
    "        # if it fails gives all shops it connects to\n",
    "        top_weight = 0\n",
    "    # select all shops above the weight, and then sample randomly from those that are equal in weight to meet the total number required.\n",
    "    part_1 = [list(set([x[0]]).union(set([x[1]])).difference(set([shops])))[0] for x in shops_with_connection if x[2] > top_weight]\n",
    "    part_2 = random.choices([list(set([x[0]]).union(set([x[1]])).difference(set([shops])))[0] for x in shops_with_connection if x[2] == top_weight], k = top - len(part_1))\n",
    "    return part_1 + part_2"
   ]
  },
  {
   "cell_type": "markdown",
   "id": "urban-miracle",
   "metadata": {},
   "source": [
    "This can be implemented to make recommendations; for instance there are 8 slots for shop/product 1, we could run the following function:"
   ]
  },
  {
   "cell_type": "code",
   "execution_count": 29,
   "id": "gothic-globe",
   "metadata": {},
   "outputs": [
    {
     "data": {
      "text/plain": [
       "[3, 64, 40, 43, 58, 43, 43, 43]"
      ]
     },
     "execution_count": 29,
     "metadata": {},
     "output_type": "execute_result"
    }
   ],
   "source": [
    "find_similar_shop(1, 8)"
   ]
  },
  {
   "cell_type": "markdown",
   "id": "enhanced-secretariat",
   "metadata": {},
   "source": [
    "And make recommendations of these particular shops/products since they are most related to shop/product 1. "
   ]
  },
  {
   "cell_type": "markdown",
   "id": "alternative-lightning",
   "metadata": {},
   "source": [
    "And if we want to find out top 4 shops that are closest related to shop 78, the designer shop, we could do:"
   ]
  },
  {
   "cell_type": "code",
   "execution_count": 31,
   "id": "acoustic-yellow",
   "metadata": {},
   "outputs": [
    {
     "data": {
      "text/plain": [
       "[15, 84, 93, 70]"
      ]
     },
     "execution_count": 31,
     "metadata": {},
     "output_type": "execute_result"
    }
   ],
   "source": [
    "find_similar_shop(78, 4)"
   ]
  },
  {
   "cell_type": "markdown",
   "id": "violent-newport",
   "metadata": {},
   "source": [
    "# Question 2 -- SQL Queries"
   ]
  },
  {
   "cell_type": "code",
   "execution_count": null,
   "id": "substantial-highway",
   "metadata": {},
   "outputs": [],
   "source": [
    "# 1. How many orders were shipped by Speedy Express in total?\n",
    "SELECT count(*) \n",
    "FROM Orders join Shippers\n",
    "WHERE ShipperName = \"Speedy Express\";\n",
    "\n",
    "'''52 orders were shipped by Speedy Express'''\n",
    "\n",
    "# 2. What is the last name of the employee with the most orders?\n",
    "SELECT max(orders), LastName FROM \n",
    "    (SELECT count(EmployeeID) as orders, lastName \n",
    "     FROM Orders natural join Employees\n",
    "     GROUP BY EmployeeID);\n",
    "    \n",
    "'''Peacock is the last name, they made 40 orders'''\n",
    "    \n",
    "\n",
    "    \n",
    "# 3. What product was ordered the most by customers in Germany?\n",
    "SELECT ProductName, max(Quantity) FROM\n",
    "    (SELECT ProductName, sum(Quantity) as Quantity \n",
    "     FROM OrderDetails natural JOIN Orders natural JOIN Customers natural JOIN Products\n",
    "     WHERE Country = \"Germany\"\n",
    "     GROUP BY ProductName);\n",
    "    \n",
    "'''Boston Crab Meat was most ordered by customers in Germany. The amount ordered was 160 units.'''\n",
    "\n"
   ]
  }
 ],
 "metadata": {
  "kernelspec": {
   "display_name": "Python 3",
   "language": "python",
   "name": "python3"
  },
  "language_info": {
   "codemirror_mode": {
    "name": "ipython",
    "version": 3
   },
   "file_extension": ".py",
   "mimetype": "text/x-python",
   "name": "python",
   "nbconvert_exporter": "python",
   "pygments_lexer": "ipython3",
   "version": "3.7.9"
  }
 },
 "nbformat": 4,
 "nbformat_minor": 5
}
